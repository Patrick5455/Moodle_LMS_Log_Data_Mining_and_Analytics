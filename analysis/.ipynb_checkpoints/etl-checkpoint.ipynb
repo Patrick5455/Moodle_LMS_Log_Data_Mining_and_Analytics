{
 "cells": [
  {
   "cell_type": "code",
   "execution_count": null,
   "metadata": {},
   "outputs": [],
   "source": []
  },
  {
   "cell_type": "markdown",
   "metadata": {},
   "source": [
    "#### ETL Processes"
   ]
  },
  {
   "cell_type": "markdown",
   "metadata": {},
   "source": [
    "> I would be using this notebook to develop the ETL process for each of the database tables before completing the etl.py file to load the whole datasets."
   ]
  },
  {
   "cell_type": "markdown",
   "metadata": {},
   "source": [
    "import libraries"
   ]
  },
  {
   "cell_type": "code",
   "execution_count": 11,
   "metadata": {},
   "outputs": [],
   "source": [
    "# !pip install psycopg2-binary"
   ]
  },
  {
   "cell_type": "code",
   "execution_count": 90,
   "metadata": {},
   "outputs": [],
   "source": [
    "import os\n",
    "import glob\n",
    "import psycopg2\n",
    "import pandas as pd \n",
    "import sys\n",
    "import numpy as np"
   ]
  },
  {
   "cell_type": "markdown",
   "metadata": {},
   "source": [
    "create a database connection"
   ]
  },
  {
   "cell_type": "code",
   "execution_count": 97,
   "metadata": {},
   "outputs": [],
   "source": [
    "def get_connection(user:str, password:str, host:str,database:str, port:str=None,) -> psycopg2.extensions.cursor:\n",
    "    try:\n",
    "            connection = psycopg2.connect(user = user,\n",
    "                                          password = password,\n",
    "                                          host = host,\n",
    "                                          port = port,\n",
    "                                          database = database)\n",
    "            # perform autocommit on queries\n",
    "            connection.autocommit = True\n",
    "            cursor = connection.cursor()\n",
    "            # Print PostgreSQL Connection properties\n",
    "            print ( connection.get_dsn_parameters(),\"\\n\")\n",
    "\n",
    "            # Print PostgreSQL version\n",
    "            cursor.execute(\"SELECT version();\")\n",
    "            record = cursor.fetchone()\n",
    "            print(\"You are connected to - \", record,\"\\n\")\n",
    "    except (Exception, psycopg2.Error) as error :\n",
    "            print (\"Error while connecting to PostgreSQL\", error)\n",
    "            sys.exit(1)\n",
    "    return connection"
   ]
  },
  {
   "cell_type": "code",
   "execution_count": 102,
   "metadata": {},
   "outputs": [
    {
     "name": "stdout",
     "output_type": "stream",
     "text": [
      "{'user': 'guest', 'dbname': 'moodle_db', 'host': '127.0.0.1', 'port': '5432', 'tty': '', 'options': '', 'sslmode': 'prefer', 'sslcompression': '0', 'krbsrvname': 'postgres', 'target_session_attrs': 'any'} \n",
      "\n",
      "You are connected to -  ('PostgreSQL 12.4 (Ubuntu 12.4-1.pgdg18.04+1) on x86_64-pc-linux-gnu, compiled by gcc (Ubuntu 7.5.0-3ubuntu1~18.04) 7.5.0, 64-bit',) \n",
      "\n"
     ]
    }
   ],
   "source": [
    "connection = get_connection(user='guest', password='guest123', host='127.0.0.1',\n",
    "              database='moodle_db')"
   ]
  },
  {
   "cell_type": "code",
   "execution_count": 104,
   "metadata": {},
   "outputs": [],
   "source": [
    "def execute_query(query, con, fetch_type:int):\n",
    "    \n",
    "    \"\"\"\n",
    "    fetch_type:\n",
    "        1 -> fetchone\n",
    "        2 -> fetchmany\n",
    "        3 -> fetchall\n",
    "    \"\"\"\n",
    "    \n",
    "    try:\n",
    "        cur = con.cursor()\n",
    "        cur.execute(query)\n",
    "        \n",
    "        if fetch_type == 1:\n",
    "            result = cur.fetchone()\n",
    "        if fetch_type == 2:\n",
    "            result == cur.fetchmany()\n",
    "        if fetch_type == 3:\n",
    "            result = cur.fetchall()\n",
    "            \n",
    "    except psycopg2.DatabaseError as e:\n",
    "        print(f'Error {e}')\n",
    "        sys.exit(1)\n",
    "    \n",
    "    return result"
   ]
  },
  {
   "cell_type": "code",
   "execution_count": 105,
   "metadata": {},
   "outputs": [
    {
     "data": {
      "text/plain": [
       "[]"
      ]
     },
     "execution_count": 105,
     "metadata": {},
     "output_type": "execute_result"
    }
   ],
   "source": [
    "fetch_tables = (\"\"\"SELECT table_name FROM information_schema.tables\n",
    "    WHERE table_schema = 'public'\"\"\")\n",
    "execute_query(query=fetch_tables, con=connection, fetch_type=3)"
   ]
  },
  {
   "cell_type": "code",
   "execution_count": null,
   "metadata": {},
   "outputs": [],
   "source": []
  }
 ],
 "metadata": {
  "kernelspec": {
   "display_name": "Python 3",
   "language": "python",
   "name": "python3"
  },
  "language_info": {
   "codemirror_mode": {
    "name": "ipython",
    "version": 3
   },
   "file_extension": ".py",
   "mimetype": "text/x-python",
   "name": "python",
   "nbconvert_exporter": "python",
   "pygments_lexer": "ipython3",
   "version": "3.6.9"
  }
 },
 "nbformat": 4,
 "nbformat_minor": 4
}
