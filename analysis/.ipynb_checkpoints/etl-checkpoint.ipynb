{
 "cells": [
  {
   "cell_type": "code",
   "execution_count": null,
   "metadata": {},
   "outputs": [],
   "source": []
  },
  {
   "cell_type": "markdown",
   "metadata": {},
   "source": [
    "#### ETL Processes"
   ]
  },
  {
   "cell_type": "markdown",
   "metadata": {},
   "source": [
    "> I would be using this notebook to develop the ETL process for each of the database tables before completing the etl.py file to load the whole datasets."
   ]
  },
  {
   "cell_type": "markdown",
   "metadata": {},
   "source": [
    "import libraries"
   ]
  },
  {
   "cell_type": "code",
   "execution_count": 1,
   "metadata": {},
   "outputs": [],
   "source": [
    "# !pip install psycopg2-binary"
   ]
  },
  {
   "cell_type": "code",
   "execution_count": 2,
   "metadata": {},
   "outputs": [],
   "source": [
    "import os\n",
    "import glob\n",
    "import psycopg2\n",
    "import pandas as pd \n",
    "import sys\n",
    "import numpy as np\n",
    "from dotenv import load_dotenv"
   ]
  },
  {
   "cell_type": "code",
   "execution_count": 3,
   "metadata": {},
   "outputs": [
    {
     "data": {
      "text/plain": [
       "True"
      ]
     },
     "execution_count": 3,
     "metadata": {},
     "output_type": "execute_result"
    }
   ],
   "source": [
    "load_dotenv('../.env')"
   ]
  },
  {
   "cell_type": "code",
   "execution_count": null,
   "metadata": {},
   "outputs": [],
   "source": []
  },
  {
   "cell_type": "markdown",
   "metadata": {},
   "source": [
    "create a database connection"
   ]
  },
  {
   "cell_type": "code",
   "execution_count": 4,
   "metadata": {},
   "outputs": [],
   "source": [
    "def get_connection(user:str, host:str,database:str, port:str=None, password:str= None) -> psycopg2.extensions.cursor:\n",
    "    try:\n",
    "        \n",
    "            if password is None:\n",
    "        \n",
    "                password = os.getenv('PASSWORD')\n",
    "            \n",
    "            connection = psycopg2.connect(user = user,\n",
    "                                          password = password,\n",
    "                                          host = host,\n",
    "                                          port = port,\n",
    "                                          database = database)\n",
    "            # perform autocommit on queries\n",
    "            connection.set_session(autocommit=True)\n",
    "            cursor = connection.cursor()\n",
    "            # Print PostgreSQL Connection properties\n",
    "            print ( connection.get_dsn_parameters(),\"\\n\")\n",
    "\n",
    "            # Print PostgreSQL version\n",
    "            cursor.execute(\"SELECT version();\")\n",
    "            record = cursor.fetchone()\n",
    "            print(\"You are connected to - \", record,\"\\n\") \n",
    "    except (Exception, psycopg2.Error) as error :\n",
    "            print (\"Error while connecting to PostgreSQL\", error)\n",
    "            sys.exit(1)\n",
    "    return connection"
   ]
  },
  {
   "cell_type": "code",
   "execution_count": 5,
   "metadata": {},
   "outputs": [
    {
     "name": "stdout",
     "output_type": "stream",
     "text": [
      "{'user': 'postgres', 'dbname': 'moodle', 'host': '127.0.0.1', 'port': '5432', 'tty': '', 'options': '', 'sslmode': 'prefer', 'sslcompression': '0', 'krbsrvname': 'postgres', 'target_session_attrs': 'any'} \n",
      "\n",
      "You are connected to -  ('PostgreSQL 12.4 (Ubuntu 12.4-1.pgdg18.04+1) on x86_64-pc-linux-gnu, compiled by gcc (Ubuntu 7.5.0-3ubuntu1~18.04) 7.5.0, 64-bit',) \n",
      "\n"
     ]
    }
   ],
   "source": [
    "connection = get_connection(user='postgres', host='127.0.0.1',\n",
    "              database='moodle')"
   ]
  },
  {
   "cell_type": "markdown",
   "metadata": {},
   "source": [
    "> define function to execute database queries"
   ]
  },
  {
   "cell_type": "code",
   "execution_count": 6,
   "metadata": {},
   "outputs": [],
   "source": [
    "def execute_query(query, con, fetch_type:int):\n",
    "    \n",
    "    \"\"\"\n",
    "    fetch_type:\n",
    "        1 -> fetchone\n",
    "        2 -> fetchmany\n",
    "        3 -> fetchall\n",
    "    \"\"\"\n",
    "    \n",
    "    try:\n",
    "        cur = con.cursor() \n",
    "        cur.execute(query)\n",
    "        \n",
    "        if fetch_type == 1:\n",
    "            result = cur.fetchone()\n",
    "        if fetch_type == 2:\n",
    "            result == cur.fetchmany()\n",
    "        if fetch_type == 3:\n",
    "            result = cur.fetchall()\n",
    "            for row in result:\n",
    "                print(row)\n",
    "            \n",
    "            \n",
    "    except psycopg2.DatabaseError as e:\n",
    "        print(f'Error {e}')\n",
    "        sys.exit(1)\n",
    "    \n",
    "    return result"
   ]
  },
  {
   "cell_type": "code",
   "execution_count": 7,
   "metadata": {},
   "outputs": [],
   "source": [
    "# fetch_tables = (\"select * from mdl_course;\")\n",
    "# execute_query(query=fetch_tables, con=connection, fetch_type=3)[0]"
   ]
  },
  {
   "cell_type": "markdown",
   "metadata": {},
   "source": [
    "#### Tables to be queried in the mooodle database\n",
    "\n",
    "● mdl_logstore_standard_log -*\n",
    "\n",
    "● mdl_context *\n",
    "\n",
    "● mdl_user *\n",
    "\n",
    "● mdl_course *\n",
    "\n",
    "● mdl_modules *\n",
    "\n",
    "● mdl_course_modules *\n",
    "\n",
    "● mdl_course_modules_completion *\n",
    "\n",
    "● mdl_grade_items\n",
    "\n",
    "● mdl_grade_grades *\n",
    "\n",
    "● mdl_grade_categories\n",
    "\n",
    "● mdl_grade_items_history\n",
    "\n",
    "● mdl_grade_grades_history\n",
    "\n",
    "● mdl_grade_categories_history\n",
    "\n",
    "● mdl_forum\n",
    "\n",
    "● mdl_forum_discussions\n",
    "\n",
    "● mdl_forum_posts"
   ]
  },
  {
   "cell_type": "markdown",
   "metadata": {},
   "source": [
    "> create a list to store tables names"
   ]
  },
  {
   "cell_type": "code",
   "execution_count": 8,
   "metadata": {},
   "outputs": [],
   "source": [
    "moodle_tables = ['mdl_logstore_standard_log',\n",
    "     \n",
    "'mdl_context',\n",
    "     \n",
    "'mdl_user',\n",
    "     \n",
    "'mdl_course ',\n",
    "     \n",
    "'mdl_modules',\n",
    "     \n",
    "'mdl_course_modules ',\n",
    "     \n",
    "'mdl_course_modules_completion',\n",
    "     \n",
    "'mdl_grade_items',\n",
    "     \n",
    "'mdl_grade_grades',\n",
    "\n",
    "'mdl_grade_categories',\n",
    "\n",
    "'mdl_grade_items_history',\n",
    "\n",
    "'mdl_grade_grades_history',\n",
    "\n",
    "'mdl_grade_categories_history',\n",
    "     \n",
    "'mdl_forum',\n",
    "     \n",
    "'mdl_forum_discussions',\n",
    "     \n",
    "'mdl_forum_posts'\n",
    "    ]"
   ]
  },
  {
   "cell_type": "markdown",
   "metadata": {},
   "source": [
    "> write function to parse sql tables to pandas"
   ]
  },
  {
   "cell_type": "code",
   "execution_count": 9,
   "metadata": {},
   "outputs": [],
   "source": [
    "def get_tables(table_names:list, con) -> dict:\n",
    "    \n",
    "    tables = dict()\n",
    "    for table in table_names:\n",
    "        \n",
    "        table_key = table.split('_')[-1]\n",
    "        \n",
    "        print(\"getting table for \"+table_key)\n",
    "        \n",
    "        tables[table_key] = pd.read_sql_query(sql =f'SELECT * FROM {table}', con=con)\n",
    "        \n",
    "    return tables"
   ]
  },
  {
   "cell_type": "code",
   "execution_count": 10,
   "metadata": {},
   "outputs": [
    {
     "name": "stdout",
     "output_type": "stream",
     "text": [
      "getting table for log\n",
      "getting table for context\n",
      "getting table for user\n",
      "getting table for course \n",
      "getting table for modules\n",
      "getting table for modules \n",
      "getting table for completion\n",
      "getting table for items\n",
      "getting table for grades\n",
      "getting table for categories\n",
      "getting table for history\n",
      "getting table for history\n",
      "getting table for history\n",
      "getting table for forum\n",
      "getting table for discussions\n",
      "getting table for posts\n"
     ]
    }
   ],
   "source": [
    "tables = get_tables(table_names=moodle_tables, con=connection)"
   ]
  },
  {
   "cell_type": "code",
   "execution_count": 11,
   "metadata": {},
   "outputs": [
    {
     "data": {
      "text/plain": [
       "dict"
      ]
     },
     "execution_count": 11,
     "metadata": {},
     "output_type": "execute_result"
    }
   ],
   "source": [
    "type(tables)"
   ]
  },
  {
   "cell_type": "code",
   "execution_count": 12,
   "metadata": {},
   "outputs": [
    {
     "data": {
      "text/plain": [
       "dict_keys(['log', 'context', 'user', 'course ', 'modules', 'modules ', 'completion', 'items', 'grades', 'categories', 'history', 'forum', 'discussions', 'posts'])"
      ]
     },
     "execution_count": 12,
     "metadata": {},
     "output_type": "execute_result"
    }
   ],
   "source": [
    "tables.keys()"
   ]
  },
  {
   "cell_type": "markdown",
   "metadata": {},
   "source": [
    "> write function to save table objects to csv"
   ]
  },
  {
   "cell_type": "code",
   "execution_count": 21,
   "metadata": {},
   "outputs": [],
   "source": [
    "saved_tables_path = '../data/retrieved_tables'"
   ]
  },
  {
   "cell_type": "code",
   "execution_count": 29,
   "metadata": {},
   "outputs": [],
   "source": [
    "def save_tables(path:str, tables:dict, index:bool=False, date_format:str='%Y%m%d'):\n",
    "    for table_name, table in tables.items(): \n",
    "        file_name= f\"/{table_name}.csv\"\n",
    "        print(f\"Saving sql table {table_name} to -> \"+path+file_name)\n",
    "        table.to_csv(path_or_buf=path+file_name, index=index, date_format=date_format)"
   ]
  },
  {
   "cell_type": "code",
   "execution_count": 30,
   "metadata": {},
   "outputs": [
    {
     "name": "stdout",
     "output_type": "stream",
     "text": [
      "Saving sql table log to -> ../data/retrieved_tables/log.csv\n",
      "Saving sql table context to -> ../data/retrieved_tables/context.csv\n",
      "Saving sql table user to -> ../data/retrieved_tables/user.csv\n",
      "Saving sql table course  to -> ../data/retrieved_tables/course .csv\n",
      "Saving sql table modules to -> ../data/retrieved_tables/modules.csv\n",
      "Saving sql table modules  to -> ../data/retrieved_tables/modules .csv\n",
      "Saving sql table completion to -> ../data/retrieved_tables/completion.csv\n",
      "Saving sql table items to -> ../data/retrieved_tables/items.csv\n",
      "Saving sql table grades to -> ../data/retrieved_tables/grades.csv\n",
      "Saving sql table categories to -> ../data/retrieved_tables/categories.csv\n",
      "Saving sql table history to -> ../data/retrieved_tables/history.csv\n",
      "Saving sql table forum to -> ../data/retrieved_tables/forum.csv\n",
      "Saving sql table discussions to -> ../data/retrieved_tables/discussions.csv\n",
      "Saving sql table posts to -> ../data/retrieved_tables/posts.csv\n"
     ]
    }
   ],
   "source": [
    "save_tables(path=saved_tables_path, tables=tables)"
   ]
  },
  {
   "cell_type": "code",
   "execution_count": null,
   "metadata": {},
   "outputs": [],
   "source": []
  }
 ],
 "metadata": {
  "kernelspec": {
   "display_name": "Python 3",
   "language": "python",
   "name": "python3"
  },
  "language_info": {
   "codemirror_mode": {
    "name": "ipython",
    "version": 3
   },
   "file_extension": ".py",
   "mimetype": "text/x-python",
   "name": "python",
   "nbconvert_exporter": "python",
   "pygments_lexer": "ipython3",
   "version": "3.6.9"
  }
 },
 "nbformat": 4,
 "nbformat_minor": 4
}
