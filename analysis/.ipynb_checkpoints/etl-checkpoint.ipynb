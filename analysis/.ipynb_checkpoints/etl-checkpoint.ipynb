{
 "cells": [
  {
   "cell_type": "code",
   "execution_count": null,
   "metadata": {},
   "outputs": [],
   "source": []
  },
  {
   "cell_type": "markdown",
   "metadata": {},
   "source": [
    "#### ETL Processes"
   ]
  },
  {
   "cell_type": "markdown",
   "metadata": {},
   "source": [
    "> I would be using this notebook to develop the ETL process for each of the database tables before completing the etl.py file to load the whole datasets."
   ]
  },
  {
   "cell_type": "markdown",
   "metadata": {},
   "source": [
    "import libraries"
   ]
  },
  {
   "cell_type": "code",
   "execution_count": 1,
   "metadata": {},
   "outputs": [],
   "source": [
    "# !pip install psycopg2-binary"
   ]
  },
  {
   "cell_type": "code",
   "execution_count": 2,
   "metadata": {},
   "outputs": [],
   "source": [
    "import os\n",
    "import glob\n",
    "import psycopg2\n",
    "import pandas as pd \n",
    "import sys\n",
    "import numpy as np\n",
    "from dotenv import load_dotenv"
   ]
  },
  {
   "cell_type": "code",
   "execution_count": 3,
   "metadata": {},
   "outputs": [
    {
     "data": {
      "text/plain": [
       "True"
      ]
     },
     "execution_count": 3,
     "metadata": {},
     "output_type": "execute_result"
    }
   ],
   "source": [
    "load_dotenv('../.env')"
   ]
  },
  {
   "cell_type": "code",
   "execution_count": null,
   "metadata": {},
   "outputs": [],
   "source": []
  },
  {
   "cell_type": "markdown",
   "metadata": {},
   "source": [
    "create a database connection"
   ]
  },
  {
   "cell_type": "code",
   "execution_count": 4,
   "metadata": {},
   "outputs": [],
   "source": [
    "def get_connection(user:str, host:str,database:str, port:str=None, password:str= None) -> psycopg2.extensions.cursor:\n",
    "    try:\n",
    "        \n",
    "            if password is None:\n",
    "        \n",
    "                password = os.getenv('PASSWORD')\n",
    "            \n",
    "            connection = psycopg2.connect(user = user,\n",
    "                                          password = password,\n",
    "                                          host = host,\n",
    "                                          port = port,\n",
    "                                          database = database)\n",
    "            # perform autocommit on queries\n",
    "            connection.set_session(autocommit=True)\n",
    "            cursor = connection.cursor()\n",
    "            # Print PostgreSQL Connection properties\n",
    "            print ( connection.get_dsn_parameters(),\"\\n\")\n",
    "\n",
    "            # Print PostgreSQL version\n",
    "            cursor.execute(\"SELECT version();\")\n",
    "            record = cursor.fetchone()\n",
    "            print(\"You are connected to - \", record,\"\\n\") \n",
    "    except (Exception, psycopg2.Error) as error :\n",
    "            print (\"Error while connecting to PostgreSQL\", error)\n",
    "            sys.exit(1)\n",
    "    return connection"
   ]
  },
  {
   "cell_type": "code",
   "execution_count": 6,
   "metadata": {},
   "outputs": [
    {
     "name": "stderr",
     "output_type": "stream",
     "text": [
      "ERROR:root:Internal Python error in the inspect module.\n",
      "Below is the traceback from this internal error.\n",
      "\n"
     ]
    },
    {
     "name": "stdout",
     "output_type": "stream",
     "text": [
      "Error while connecting to PostgreSQL FATAL:  password authentication failed for user \"postgres\"\n",
      "FATAL:  password authentication failed for user \"postgres\"\n",
      "\n",
      "Traceback (most recent call last):\n",
      "  File \"<ipython-input-4-29fb219cf26d>\", line 12, in get_connection\n",
      "    database = database)\n",
      "  File \"/home/patrick/.local/lib/python3.6/site-packages/psycopg2/__init__.py\", line 127, in connect\n",
      "    conn = _connect(dsn, connection_factory=connection_factory, **kwasync)\n",
      "psycopg2.OperationalError: FATAL:  password authentication failed for user \"postgres\"\n",
      "FATAL:  password authentication failed for user \"postgres\"\n",
      "\n",
      "\n",
      "During handling of the above exception, another exception occurred:\n",
      "\n",
      "Traceback (most recent call last):\n",
      "  File \"/home/patrick/.local/lib/python3.6/site-packages/IPython/core/interactiveshell.py\", line 3331, in run_code\n",
      "    exec(code_obj, self.user_global_ns, self.user_ns)\n",
      "  File \"<ipython-input-6-4bf3c2a142db>\", line 2, in <module>\n",
      "    database='moodle')\n",
      "  File \"<ipython-input-4-29fb219cf26d>\", line 25, in get_connection\n",
      "    sys.exit(1)\n",
      "SystemExit: 1\n",
      "\n",
      "During handling of the above exception, another exception occurred:\n",
      "\n",
      "Traceback (most recent call last):\n",
      "  File \"/home/patrick/.local/lib/python3.6/site-packages/IPython/core/ultratb.py\", line 1151, in get_records\n",
      "    return _fixed_getinnerframes(etb, number_of_lines_of_context, tb_offset)\n",
      "  File \"/home/patrick/.local/lib/python3.6/site-packages/IPython/core/ultratb.py\", line 319, in wrapped\n",
      "    return f(*args, **kwargs)\n",
      "  File \"/home/patrick/.local/lib/python3.6/site-packages/IPython/core/ultratb.py\", line 353, in _fixed_getinnerframes\n",
      "    records = fix_frame_records_filenames(inspect.getinnerframes(etb, context))\n",
      "  File \"/usr/lib/python3.6/inspect.py\", line 1490, in getinnerframes\n",
      "    frameinfo = (tb.tb_frame,) + getframeinfo(tb, context)\n",
      "AttributeError: 'tuple' object has no attribute 'tb_frame'\n"
     ]
    },
    {
     "ename": "SystemExit",
     "evalue": "1",
     "output_type": "error",
     "traceback": [
      "An exception has occurred, use %tb to see the full traceback.\n",
      "\u001b[0;31m---------------------------------------------------------------------------\u001b[0m",
      "\nDuring handling of the above exception, another exception occurred:\n",
      "\u001b[0;31mSystemExit\u001b[0m\u001b[0;31m:\u001b[0m 1\n"
     ]
    }
   ],
   "source": [
    "connection = get_connection(user='postgres', host='127.0.0.1',\n",
    "              database='moodle')"
   ]
  },
  {
   "cell_type": "markdown",
   "metadata": {},
   "source": [
    "> define function to execute database queries"
   ]
  },
  {
   "cell_type": "code",
   "execution_count": null,
   "metadata": {},
   "outputs": [],
   "source": [
    "def execute_query(query, con, fetch_type:int):\n",
    "    \n",
    "    \"\"\"\n",
    "    fetch_type:\n",
    "        1 -> fetchone\n",
    "        2 -> fetchmany\n",
    "        3 -> fetchall\n",
    "    \"\"\"\n",
    "    \n",
    "    try:\n",
    "        cur = con.cursor() \n",
    "        cur.execute(query)\n",
    "        \n",
    "        if fetch_type == 1:\n",
    "            result = cur.fetchone()\n",
    "        if fetch_type == 2:\n",
    "            result == cur.fetchmany()\n",
    "        if fetch_type == 3:\n",
    "            result = cur.fetchall()\n",
    "            for row in result:\n",
    "                print(row)\n",
    "            \n",
    "            \n",
    "    except psycopg2.DatabaseError as e:\n",
    "        print(f'Error {e}')\n",
    "        sys.exit(1)\n",
    "    \n",
    "    return result"
   ]
  },
  {
   "cell_type": "code",
   "execution_count": null,
   "metadata": {},
   "outputs": [],
   "source": [
    "# fetch_tables = (\"select * from mdl_course;\")\n",
    "# execute_query(query=fetch_tables, con=connection, fetch_type=3)[0]"
   ]
  },
  {
   "cell_type": "markdown",
   "metadata": {},
   "source": [
    "#### Tables to be queried in the mooodle database\n",
    "\n",
    "● mdl_logstore_standard_log -*\n",
    "\n",
    "● mdl_context *\n",
    "\n",
    "● mdl_user *\n",
    "\n",
    "● mdl_course *\n",
    "\n",
    "● mdl_modules *\n",
    "\n",
    "● mdl_course_modules *\n",
    "\n",
    "● mdl_course_modules_completion *\n",
    "\n",
    "● mdl_grade_items\n",
    "\n",
    "● mdl_grade_grades *\n",
    "\n",
    "● mdl_grade_categories\n",
    "\n",
    "● mdl_grade_items_history\n",
    "\n",
    "● mdl_grade_grades_history\n",
    "\n",
    "● mdl_grade_categories_history\n",
    "\n",
    "● mdl_forum\n",
    "\n",
    "● mdl_forum_discussions\n",
    "\n",
    "● mdl_forum_posts"
   ]
  },
  {
   "cell_type": "markdown",
   "metadata": {},
   "source": [
    "> create a list to store tables names"
   ]
  },
  {
   "cell_type": "code",
   "execution_count": null,
   "metadata": {},
   "outputs": [],
   "source": [
    "moodle_tables = ['mdl_logstore_standard_log',\n",
    "     \n",
    "'mdl_context',\n",
    "     \n",
    "'mdl_user',\n",
    "     \n",
    "'mdl_course ',\n",
    "     \n",
    "'mdl_modules',\n",
    "     \n",
    "'mdl_course_modules ',\n",
    "     \n",
    "'mdl_course_modules_completion',\n",
    "     \n",
    "'mdl_grade_items',\n",
    "     \n",
    "'mdl_grade_grade',\n",
    "\n",
    "'mdl_grade_categories',\n",
    "\n",
    "'mdl_grade_items_history',\n",
    "\n",
    "'mdl_grade_grades_history',\n",
    "\n",
    "'mdl_grade_categories_history',\n",
    "     \n",
    "'mdl_forum',\n",
    "     \n",
    "'mdl_forum_discussions',\n",
    "     \n",
    "'mdl_forum_posts'\n",
    "    ]"
   ]
  },
  {
   "cell_type": "markdown",
   "metadata": {},
   "source": [
    "> write function to parse sql tables to pandas"
   ]
  },
  {
   "cell_type": "code",
   "execution_count": null,
   "metadata": {},
   "outputs": [],
   "source": [
    "def get_tables(table_names:list, con) -> dict:\n",
    "    \n",
    "    tables = dict()\n",
    "    for table in table_names:\n",
    "        \n",
    "        table_key = table.split('_')[-1]\n",
    "        \n",
    "        print(\"getting table for \"+table_key)\n",
    "        \n",
    "        tables[table_key] = pd.read_sql_query(sql =f'SELECT * FROM {table}', con=con)\n",
    "        \n",
    "    return tables"
   ]
  },
  {
   "cell_type": "code",
   "execution_count": null,
   "metadata": {},
   "outputs": [],
   "source": [
    "tables = get_tables(table_names=moodle_tables, con=connection)"
   ]
  },
  {
   "cell_type": "code",
   "execution_count": null,
   "metadata": {},
   "outputs": [],
   "source": [
    "tables"
   ]
  },
  {
   "cell_type": "code",
   "execution_count": null,
   "metadata": {},
   "outputs": [],
   "source": [
    "tables.keys()"
   ]
  },
  {
   "cell_type": "code",
   "execution_count": null,
   "metadata": {},
   "outputs": [],
   "source": [
    "tables = {'x':x}"
   ]
  },
  {
   "cell_type": "code",
   "execution_count": null,
   "metadata": {},
   "outputs": [],
   "source": [
    "pd.read_sql_query(sql =f'SELECT * FROM mdl_grade_items_history', con=connection)"
   ]
  },
  {
   "cell_type": "code",
   "execution_count": null,
   "metadata": {},
   "outputs": [],
   "source": []
  }
 ],
 "metadata": {
  "kernelspec": {
   "display_name": "Python 3",
   "language": "python",
   "name": "python3"
  },
  "language_info": {
   "codemirror_mode": {
    "name": "ipython",
    "version": 3
   },
   "file_extension": ".py",
   "mimetype": "text/x-python",
   "name": "python",
   "nbconvert_exporter": "python",
   "pygments_lexer": "ipython3",
   "version": "3.6.9"
  }
 },
 "nbformat": 4,
 "nbformat_minor": 4
}
